{
 "cells": [
  {
   "cell_type": "code",
   "execution_count": 3,
   "id": "4536af84",
   "metadata": {},
   "outputs": [
    {
     "name": "stderr",
     "output_type": "stream",
     "text": [
      "/opt/conda/lib/python3.9/site-packages/scipy/__init__.py:146: UserWarning: A NumPy version >=1.16.5 and <1.23.0 is required for this version of SciPy (detected version 1.24.1\n",
      "  warnings.warn(f\"A NumPy version >={np_minversion} and <{np_maxversion}\"\n",
      "[nltk_data] Downloading package stopwords to\n",
      "[nltk_data]     /home/kjadbaba/nltk_data...\n",
      "[nltk_data]   Package stopwords is already up-to-date!\n"
     ]
    }
   ],
   "source": [
    "# pip install fastparquet\n",
    "# pip install pyarrow\n",
    "\n",
    "import pandas as pd\n",
    "import nltk\n",
    "import numpy as np\n",
    "from nltk.corpus import stopwords\n",
    "nltk.download('stopwords')\n",
    "punc = '''=--*!()-[]{};:'\"\\,<>./?@#%^&*_~'''\n",
    "import time\n",
    "import IPython"
   ]
  },
  {
   "cell_type": "code",
   "execution_count": 2,
   "id": "faf938aa",
   "metadata": {},
   "outputs": [],
   "source": [
    "df = pd.read_parquet(\"DSC180B.parquet\")"
   ]
  },
  {
   "cell_type": "code",
   "execution_count": 4,
   "id": "514d2430",
   "metadata": {},
   "outputs": [
    {
     "data": {
      "text/plain": [
       "496101"
      ]
     },
     "execution_count": 4,
     "metadata": {},
     "output_type": "execute_result"
    }
   ],
   "source": [
    "len(df)"
   ]
  },
  {
   "cell_type": "code",
   "execution_count": 23,
   "id": "db4621a8",
   "metadata": {
    "scrolled": true
   },
   "outputs": [
    {
     "data": {
      "text/html": [
       "<div>\n",
       "<style scoped>\n",
       "    .dataframe tbody tr th:only-of-type {\n",
       "        vertical-align: middle;\n",
       "    }\n",
       "\n",
       "    .dataframe tbody tr th {\n",
       "        vertical-align: top;\n",
       "    }\n",
       "\n",
       "    .dataframe thead th {\n",
       "        text-align: right;\n",
       "    }\n",
       "</style>\n",
       "<table border=\"1\" class=\"dataframe\">\n",
       "  <thead>\n",
       "    <tr style=\"text-align: right;\">\n",
       "      <th></th>\n",
       "      <th>transaction_date</th>\n",
       "      <th>amount</th>\n",
       "      <th>memo</th>\n",
       "      <th>new_category</th>\n",
       "    </tr>\n",
       "  </thead>\n",
       "  <tbody>\n",
       "    <tr>\n",
       "      <th>8</th>\n",
       "      <td>2018-03-06</td>\n",
       "      <td>15.25</td>\n",
       "      <td>POS CASINO BAR @ SPOTL - MEMO=PURCHASE 03/02 C...</td>\n",
       "      <td>Entertainment</td>\n",
       "    </tr>\n",
       "    <tr>\n",
       "      <th>39</th>\n",
       "      <td>2018-09-29</td>\n",
       "      <td>16.04</td>\n",
       "      <td>BEST BUY   GRAND REGENCY BRANDON F</td>\n",
       "      <td>General Merchandise</td>\n",
       "    </tr>\n",
       "    <tr>\n",
       "      <th>45</th>\n",
       "      <td>2018-10-17</td>\n",
       "      <td>10.36</td>\n",
       "      <td>CORNER STORE  ARLINGTON TX 10/17 Purchase $5.3...</td>\n",
       "      <td>Automotive</td>\n",
       "    </tr>\n",
       "    <tr>\n",
       "      <th>52</th>\n",
       "      <td>2017-07-11</td>\n",
       "      <td>4.63</td>\n",
       "      <td>SPEEDWAY  IN BEDFORD IN 07/10 DEBIT_CARD</td>\n",
       "      <td>Automotive</td>\n",
       "    </tr>\n",
       "    <tr>\n",
       "      <th>55</th>\n",
       "      <td>2018-09-10</td>\n",
       "      <td>223.00</td>\n",
       "      <td>PAYMENT FOR AMZ STORECARD  WEB ID:  ACH_DEBIT</td>\n",
       "      <td>General Merchandise</td>\n",
       "    </tr>\n",
       "  </tbody>\n",
       "</table>\n",
       "</div>"
      ],
      "text/plain": [
       "   transaction_date  amount  \\\n",
       "8        2018-03-06   15.25   \n",
       "39       2018-09-29   16.04   \n",
       "45       2018-10-17   10.36   \n",
       "52       2017-07-11    4.63   \n",
       "55       2018-09-10  223.00   \n",
       "\n",
       "                                                 memo         new_category  \n",
       "8   POS CASINO BAR @ SPOTL - MEMO=PURCHASE 03/02 C...        Entertainment  \n",
       "39                 BEST BUY   GRAND REGENCY BRANDON F  General Merchandise  \n",
       "45  CORNER STORE  ARLINGTON TX 10/17 Purchase $5.3...           Automotive  \n",
       "52           SPEEDWAY  IN BEDFORD IN 07/10 DEBIT_CARD           Automotive  \n",
       "55      PAYMENT FOR AMZ STORECARD  WEB ID:  ACH_DEBIT  General Merchandise  "
      ]
     },
     "execution_count": 23,
     "metadata": {},
     "output_type": "execute_result"
    }
   ],
   "source": [
    "df.head()"
   ]
  },
  {
   "cell_type": "markdown",
   "id": "7bc8a1fe",
   "metadata": {},
   "source": [
    "## Data Cleaning"
   ]
  },
  {
   "cell_type": "code",
   "execution_count": 26,
   "id": "a7e7c82b",
   "metadata": {},
   "outputs": [],
   "source": [
    "def removeStop(sentence):\n",
    "    \"\"\"\n",
    "    For each row in dataset, removes stopwords and lowercases every word\n",
    "    \"\"\"\n",
    "    words = \"\"\n",
    "    for j in punc:\n",
    "        sentence = sentence.replace(j, \"\")\n",
    "    for word in sentence.split():\n",
    "        if word.lower() not in stopwords.words('english') and word.lower() not in punc:\n",
    "            words = words + \" \" + word.lower()\n",
    "#             words.append(word.lower())\n",
    "    return words\n",
    "\n",
    "df['Cleaned Text'] = df['memo'].apply(removeStop)"
   ]
  },
  {
   "cell_type": "code",
   "execution_count": 30,
   "id": "9671fb7d",
   "metadata": {},
   "outputs": [],
   "source": [
    "df.to_parquet(\"df_cleaned.parquet\")"
   ]
  },
  {
   "cell_type": "code",
   "execution_count": 4,
   "id": "03fb2a7e",
   "metadata": {},
   "outputs": [],
   "source": [
    "clean_df = pd.read_parquet(\"df_cleaned.parquet\")"
   ]
  },
  {
   "cell_type": "code",
   "execution_count": 5,
   "id": "a4774dab",
   "metadata": {},
   "outputs": [
    {
     "data": {
      "text/plain": [
       "496101"
      ]
     },
     "execution_count": 5,
     "metadata": {},
     "output_type": "execute_result"
    }
   ],
   "source": [
    "len(clean_df)"
   ]
  },
  {
   "cell_type": "code",
   "execution_count": 1,
   "id": "0cdcee05",
   "metadata": {},
   "outputs": [
    {
     "data": {
      "text/html": [
       "<div>\n",
       "<style scoped>\n",
       "    .dataframe tbody tr th:only-of-type {\n",
       "        vertical-align: middle;\n",
       "    }\n",
       "\n",
       "    .dataframe tbody tr th {\n",
       "        vertical-align: top;\n",
       "    }\n",
       "\n",
       "    .dataframe thead th {\n",
       "        text-align: right;\n",
       "    }\n",
       "</style>\n",
       "<table border=\"1\" class=\"dataframe\">\n",
       "  <thead>\n",
       "    <tr style=\"text-align: right;\">\n",
       "      <th></th>\n",
       "      <th>transaction_date</th>\n",
       "      <th>amount</th>\n",
       "      <th>memo</th>\n",
       "      <th>new_category</th>\n",
       "      <th>Cleaned Text</th>\n",
       "    </tr>\n",
       "  </thead>\n",
       "  <tbody>\n",
       "    <tr>\n",
       "      <th>8</th>\n",
       "      <td>2018-03-06</td>\n",
       "      <td>15.25</td>\n",
       "      <td>POS CASINO BAR @ SPOTL - MEMO=PURCHASE 03/02 C...</td>\n",
       "      <td>Entertainment</td>\n",
       "      <td>pos casino bar spotl memopurchase 0302 coache...</td>\n",
       "    </tr>\n",
       "    <tr>\n",
       "      <th>39</th>\n",
       "      <td>2018-09-29</td>\n",
       "      <td>16.04</td>\n",
       "      <td>BEST BUY   GRAND REGENCY BRANDON F</td>\n",
       "      <td>General Merchandise</td>\n",
       "      <td>best buy grand regency brandon f</td>\n",
       "    </tr>\n",
       "    <tr>\n",
       "      <th>45</th>\n",
       "      <td>2018-10-17</td>\n",
       "      <td>10.36</td>\n",
       "      <td>CORNER STORE  ARLINGTON TX 10/17 Purchase $5.3...</td>\n",
       "      <td>Automotive</td>\n",
       "      <td>corner store arlington tx 1017 purchase $536 ...</td>\n",
       "    </tr>\n",
       "    <tr>\n",
       "      <th>52</th>\n",
       "      <td>2017-07-11</td>\n",
       "      <td>4.63</td>\n",
       "      <td>SPEEDWAY  IN BEDFORD IN 07/10 DEBIT_CARD</td>\n",
       "      <td>Automotive</td>\n",
       "      <td>speedway bedford 0710 debitcard</td>\n",
       "    </tr>\n",
       "    <tr>\n",
       "      <th>55</th>\n",
       "      <td>2018-09-10</td>\n",
       "      <td>223.00</td>\n",
       "      <td>PAYMENT FOR AMZ STORECARD  WEB ID:  ACH_DEBIT</td>\n",
       "      <td>General Merchandise</td>\n",
       "      <td>payment amz storecard web id achdebit</td>\n",
       "    </tr>\n",
       "    <tr>\n",
       "      <th>...</th>\n",
       "      <td>...</td>\n",
       "      <td>...</td>\n",
       "      <td>...</td>\n",
       "      <td>...</td>\n",
       "      <td>...</td>\n",
       "    </tr>\n",
       "    <tr>\n",
       "      <th>1999981</th>\n",
       "      <td>2021-02-19</td>\n",
       "      <td>24.24</td>\n",
       "      <td>DBT/WDR CASEYS GEN STORE  FENNIMORE WI</td>\n",
       "      <td>Automotive</td>\n",
       "      <td>dbtwdr caseys gen store fennimore wi</td>\n",
       "    </tr>\n",
       "    <tr>\n",
       "      <th>1999982</th>\n",
       "      <td>2021-01-19</td>\n",
       "      <td>120.60</td>\n",
       "      <td>POS Debit - DDA KOHLS  CLIVE IA #</td>\n",
       "      <td>General Merchandise</td>\n",
       "      <td>pos debit dda kohls clive ia</td>\n",
       "    </tr>\n",
       "    <tr>\n",
       "      <th>1999983</th>\n",
       "      <td>2022-02-25</td>\n",
       "      <td>6.47</td>\n",
       "      <td>STARBUCKS STORE  MAPLE VALLEY WA        02/24</td>\n",
       "      <td>Food and Beverages</td>\n",
       "      <td>starbucks store maple valley wa 0224</td>\n",
       "    </tr>\n",
       "    <tr>\n",
       "      <th>1999991</th>\n",
       "      <td>2021-01-11</td>\n",
       "      <td>44.98</td>\n",
       "      <td>POS Debit - Visa Check Card  - APPLE.COM/BILL ...</td>\n",
       "      <td>General Merchandise</td>\n",
       "      <td>pos debit visa check card applecombill ca</td>\n",
       "    </tr>\n",
       "    <tr>\n",
       "      <th>1999992</th>\n",
       "      <td>2022-04-11</td>\n",
       "      <td>1.00</td>\n",
       "      <td>NAYAX VENDING 2 HUNT VALLEY MD               0...</td>\n",
       "      <td>Food and Beverages</td>\n",
       "      <td>nayax vending 2 hunt valley md 0409</td>\n",
       "    </tr>\n",
       "  </tbody>\n",
       "</table>\n",
       "<p>496101 rows × 5 columns</p>\n",
       "</div>"
      ],
      "text/plain": [
       "        transaction_date  amount  \\\n",
       "8             2018-03-06   15.25   \n",
       "39            2018-09-29   16.04   \n",
       "45            2018-10-17   10.36   \n",
       "52            2017-07-11    4.63   \n",
       "55            2018-09-10  223.00   \n",
       "...                  ...     ...   \n",
       "1999981       2021-02-19   24.24   \n",
       "1999982       2021-01-19  120.60   \n",
       "1999983       2022-02-25    6.47   \n",
       "1999991       2021-01-11   44.98   \n",
       "1999992       2022-04-11    1.00   \n",
       "\n",
       "                                                      memo  \\\n",
       "8        POS CASINO BAR @ SPOTL - MEMO=PURCHASE 03/02 C...   \n",
       "39                      BEST BUY   GRAND REGENCY BRANDON F   \n",
       "45       CORNER STORE  ARLINGTON TX 10/17 Purchase $5.3...   \n",
       "52                SPEEDWAY  IN BEDFORD IN 07/10 DEBIT_CARD   \n",
       "55           PAYMENT FOR AMZ STORECARD  WEB ID:  ACH_DEBIT   \n",
       "...                                                    ...   \n",
       "1999981             DBT/WDR CASEYS GEN STORE  FENNIMORE WI   \n",
       "1999982                  POS Debit - DDA KOHLS  CLIVE IA #   \n",
       "1999983      STARBUCKS STORE  MAPLE VALLEY WA        02/24   \n",
       "1999991  POS Debit - Visa Check Card  - APPLE.COM/BILL ...   \n",
       "1999992  NAYAX VENDING 2 HUNT VALLEY MD               0...   \n",
       "\n",
       "                new_category  \\\n",
       "8              Entertainment   \n",
       "39       General Merchandise   \n",
       "45                Automotive   \n",
       "52                Automotive   \n",
       "55       General Merchandise   \n",
       "...                      ...   \n",
       "1999981           Automotive   \n",
       "1999982  General Merchandise   \n",
       "1999983   Food and Beverages   \n",
       "1999991  General Merchandise   \n",
       "1999992   Food and Beverages   \n",
       "\n",
       "                                              Cleaned Text  \n",
       "8         pos casino bar spotl memopurchase 0302 coache...  \n",
       "39                        best buy grand regency brandon f  \n",
       "45        corner store arlington tx 1017 purchase $536 ...  \n",
       "52                         speedway bedford 0710 debitcard  \n",
       "55                   payment amz storecard web id achdebit  \n",
       "...                                                    ...  \n",
       "1999981               dbtwdr caseys gen store fennimore wi  \n",
       "1999982                       pos debit dda kohls clive ia  \n",
       "1999983               starbucks store maple valley wa 0224  \n",
       "1999991          pos debit visa check card applecombill ca  \n",
       "1999992                nayax vending 2 hunt valley md 0409  \n",
       "\n",
       "[496101 rows x 5 columns]"
      ]
     },
     "execution_count": 1,
     "metadata": {},
     "output_type": "execute_result"
    }
   ],
   "source": [
    "import pandas as pd\n",
    "pd.read_parquet(\"df_cleaned.parquet\")"
   ]
  },
  {
   "cell_type": "code",
   "execution_count": null,
   "id": "0be5ed0a",
   "metadata": {},
   "outputs": [],
   "source": [
    "# Other things to do for cleaning\n",
    "\n",
    "# Make new features with: Amount and date"
   ]
  },
  {
   "cell_type": "markdown",
   "id": "325354c4",
   "metadata": {},
   "source": [
    "### Manual Categorization"
   ]
  },
  {
   "cell_type": "markdown",
   "id": "fa56d273",
   "metadata": {},
   "source": [
    "Idea. If certain words directly correspond with a particular category 95% of the time or more we can automatically label that category. Ex: Shell == Automotive. ONLY RUN ONCE (TAKES A LONG TIME TO RUN). Goal is to get dictionary and save it then never run the code again."
   ]
  },
  {
   "cell_type": "code",
   "execution_count": 10,
   "id": "89592144",
   "metadata": {
    "scrolled": true
   },
   "outputs": [],
   "source": [
    "# # Getting every single word in dataset\n",
    "\n",
    "# big_list = np.sum(clean_df[\"Cleaned Text\"]).split(\" \")[1:]\n",
    "\n",
    "# # Trying to get value_counts. Making df\n",
    "# comb_df = pd.DataFrame(big_list, columns = ['words'])\n",
    "# top_words_df = comb_df.value_counts().to_frame().reset_index()\n",
    "# top_words = list(top_words_df[\"words\"])\n",
    "# # mini[\"Cleaned Text String\"] = mini[\"Cleaned Text\"].apply(lambda x:''.join(x))\n",
    "\n",
    "# # Value Counts\n",
    "# top_words_df = comb_df.value_counts().to_frame().reset_index()\n",
    "\n",
    "# # Now into list of top x words\n",
    "\n",
    "# top_words = list(top_words_df[\"words\"])[:5000]\n",
    "\n",
    "# def find_rows_containing_word(list_of_words):\n",
    "#     \"\"\"\n",
    "#     Creating a dictionary of words that pass 95% threshold. Input every word in dataset, output dictionary with key \n",
    "#     as word and value as category\n",
    "#     \"\"\"\n",
    "#     dictionary = {}\n",
    "#     for word in list_of_words:\n",
    "#         try:\n",
    "#             output = clean_df.loc[clean_df[\"Cleaned Text\"].str.contains(word)]\n",
    "#             if len(output) != 0:\n",
    "#                 val_counts = output.new_category.value_counts(normalize = True).to_frame()\n",
    "#                 index = list(val_counts.index)[0]\n",
    "#                 top_percentage = val_counts.iloc[0][0]\n",
    "#                 if top_percentage >= .90:\n",
    "#                     dictionary[word] = index + \": \" + str(top_percentage)\n",
    "#         except:\n",
    "#             continue\n",
    "#     return dictionary\n",
    "\n",
    "# cheat_dict = find_rows_containing_word(top_words)\n",
    "\n",
    "# cheat_df = pd.DataFrame.from_dict(cheat_dict, orient = \"index\")\n",
    "# categories = []\n",
    "# percents = []\n",
    "# for j in range(len(cheat_df)):\n",
    "#     lst = cheat_df.iloc[j][0].split(\": \")\n",
    "#     category = lst[0]\n",
    "#     percent = round(float(lst[1]), 2)\n",
    "#     categories.append(category)\n",
    "#     percents.append(percent)\n",
    "# words = list(cheat_df.index)\n",
    "# cheat_df = pd.DataFrame(list(zip(words, categories, percents)), columns = [\"word\", \"category\", \"percent\"])\n",
    "# cheat_df.to_csv(\"cheat_df.csv\")"
   ]
  }
 ],
 "metadata": {
  "kernelspec": {
   "display_name": "Python 3 (ipykernel)",
   "language": "python",
   "name": "python3"
  },
  "language_info": {
   "codemirror_mode": {
    "name": "ipython",
    "version": 3
   },
   "file_extension": ".py",
   "mimetype": "text/x-python",
   "name": "python",
   "nbconvert_exporter": "python",
   "pygments_lexer": "ipython3",
   "version": "3.9.5"
  }
 },
 "nbformat": 4,
 "nbformat_minor": 5
}
