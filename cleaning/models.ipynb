{
 "cells": [
  {
   "cell_type": "code",
   "execution_count": null,
   "id": "db0a6ef2",
   "metadata": {},
   "outputs": [],
   "source": [
    "# TO do\n",
    "\n",
    "# Bi-Grams/Tri-Grams Testing, character grams, including other mdoel features (like amount, date) \n",
    "# + add our cheat keyword search thing\n",
    "\n",
    "# Other idea: One vs Model"
   ]
  },
  {
   "cell_type": "code",
   "execution_count": 1,
   "id": "28146e1a",
   "metadata": {},
   "outputs": [],
   "source": [
    "import pandas as pd\n",
    "from sklearn.feature_extraction.text import TfidfVectorizer\n",
    "from sklearn.pipeline import Pipeline\n",
    "from sklearn.linear_model import LogisticRegression\n",
    "from sklearn.model_selection import train_test_split\n",
    "from sklearn.preprocessing import LabelEncoder"
   ]
  },
  {
   "cell_type": "code",
   "execution_count": 2,
   "id": "3f8e0dcf",
   "metadata": {},
   "outputs": [],
   "source": [
    "data = pd.read_parquet(\"df_cleaned.parquet\")"
   ]
  },
  {
   "cell_type": "code",
   "execution_count": 3,
   "id": "19d862e8",
   "metadata": {},
   "outputs": [],
   "source": [
    "# define the feature columns\n",
    "feature_columns = \"Cleaned Text\"\n",
    "\n",
    "# define the target column\n",
    "target_column = \"new_category\"\n",
    "\n",
    "# Create a LabelEncoder object\n",
    "le = LabelEncoder()\n",
    "\n",
    "# Fit and transform the target column\n",
    "y = le.fit_transform(data[target_column])\n",
    "\n",
    "# create the feature matrix and target vector\n",
    "X = data[feature_columns]\n",
    "\n",
    "# split the data into training and test sets\n",
    "X_train, X_test, y_train, y_test = train_test_split(X, y, test_size=0.2, random_state=42)\n"
   ]
  },
  {
   "cell_type": "code",
   "execution_count": 4,
   "id": "b27d965c",
   "metadata": {},
   "outputs": [
    {
     "name": "stderr",
     "output_type": "stream",
     "text": [
      "/opt/conda/lib/python3.9/site-packages/sklearn/linear_model/_logistic.py:763: ConvergenceWarning: lbfgs failed to converge (status=1):\n",
      "STOP: TOTAL NO. of ITERATIONS REACHED LIMIT.\n",
      "\n",
      "Increase the number of iterations (max_iter) or scale the data as shown in:\n",
      "    https://scikit-learn.org/stable/modules/preprocessing.html\n",
      "Please also refer to the documentation for alternative solver options:\n",
      "    https://scikit-learn.org/stable/modules/linear_model.html#logistic-regression\n",
      "  n_iter_i = _check_optimize_result(\n"
     ]
    },
    {
     "data": {
      "text/plain": [
       "Pipeline(steps=[('vectorizer', TfidfVectorizer()),\n",
       "                ('classifier', LogisticRegression())])"
      ]
     },
     "execution_count": 4,
     "metadata": {},
     "output_type": "execute_result"
    }
   ],
   "source": [
    "# create the TfidfVectorizer\n",
    "vectorizer = TfidfVectorizer()\n",
    "\n",
    "# create the pipeline\n",
    "pipeline = Pipeline([\n",
    "    (\"vectorizer\", vectorizer),\n",
    "    (\"classifier\", LogisticRegression())\n",
    "])\n",
    "\n",
    "# fit the model on the training data\n",
    "pipeline.fit(X_train, y_train)"
   ]
  },
  {
   "cell_type": "code",
   "execution_count": 17,
   "id": "b725bd7a",
   "metadata": {},
   "outputs": [
    {
     "name": "stdout",
     "output_type": "stream",
     "text": [
      "Predicted category: ['Food and Beverages']\n"
     ]
    }
   ],
   "source": [
    "# test the model on the test data\n",
    "test_data = \"mechanic\"\n",
    "predicted_category = pipeline.predict([test_data])\n",
    "\n",
    "print(\"Predicted category:\", le.inverse_transform(predicted_category))"
   ]
  },
  {
   "cell_type": "code",
   "execution_count": 6,
   "id": "9bc7181c",
   "metadata": {},
   "outputs": [
    {
     "name": "stdout",
     "output_type": "stream",
     "text": [
      "Test score: 0.8548996684169682\n"
     ]
    }
   ],
   "source": [
    "# evaluate the model on the test data\n",
    "score = pipeline.score(X_test, y_test)\n",
    "print(\"Test score:\", score)"
   ]
  },
  {
   "cell_type": "code",
   "execution_count": null,
   "id": "76f3de7e",
   "metadata": {},
   "outputs": [],
   "source": []
  },
  {
   "cell_type": "code",
   "execution_count": null,
   "id": "a452f1f4",
   "metadata": {},
   "outputs": [],
   "source": [
    "# LogisticRegression: 86%\n",
    "# XGBoost: 82%"
   ]
  }
 ],
 "metadata": {
  "kernelspec": {
   "display_name": "Python 3 (clean)",
   "language": "python",
   "name": "python3_clean"
  },
  "language_info": {
   "codemirror_mode": {
    "name": "ipython",
    "version": 3
   },
   "file_extension": ".py",
   "mimetype": "text/x-python",
   "name": "python",
   "nbconvert_exporter": "python",
   "pygments_lexer": "ipython3",
   "version": "3.9.5"
  }
 },
 "nbformat": 4,
 "nbformat_minor": 5
}
