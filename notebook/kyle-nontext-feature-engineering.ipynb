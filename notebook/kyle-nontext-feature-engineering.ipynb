{
 "cells": [
  {
   "cell_type": "code",
   "execution_count": 1,
   "id": "118674ab",
   "metadata": {},
   "outputs": [],
   "source": [
    "import numpy as np\n",
    "import pandas as pd\n",
    "\n",
    "from sklearn.model_selection import train_test_split\n",
    "from sklearn.linear_model import LogisticRegression"
   ]
  },
  {
   "cell_type": "code",
   "execution_count": 2,
   "id": "b2034743",
   "metadata": {},
   "outputs": [],
   "source": [
    "# feature engineering ideas:\n",
    "# date: encode time of day, weekend/weekday, holiday, amount, etc.\n",
    "# amount: consider encoding whole numbers\n",
    "\n",
    "# how to test features:\n",
    "# compare overall accuracy"
   ]
  },
  {
   "cell_type": "markdown",
   "id": "485a0600",
   "metadata": {},
   "source": [
    "### Week 4 Work"
   ]
  },
  {
   "cell_type": "code",
   "execution_count": 2,
   "id": "769b99b4",
   "metadata": {},
   "outputs": [
    {
     "data": {
      "text/html": [
       "<div>\n",
       "<style scoped>\n",
       "    .dataframe tbody tr th:only-of-type {\n",
       "        vertical-align: middle;\n",
       "    }\n",
       "\n",
       "    .dataframe tbody tr th {\n",
       "        vertical-align: top;\n",
       "    }\n",
       "\n",
       "    .dataframe thead th {\n",
       "        text-align: right;\n",
       "    }\n",
       "</style>\n",
       "<table border=\"1\" class=\"dataframe\">\n",
       "  <thead>\n",
       "    <tr style=\"text-align: right;\">\n",
       "      <th></th>\n",
       "      <th>amount</th>\n",
       "      <th>dt</th>\n",
       "      <th>new_category</th>\n",
       "    </tr>\n",
       "  </thead>\n",
       "  <tbody>\n",
       "    <tr>\n",
       "      <th>8</th>\n",
       "      <td>15.25</td>\n",
       "      <td>2018-03-06</td>\n",
       "      <td>Entertainment</td>\n",
       "    </tr>\n",
       "    <tr>\n",
       "      <th>39</th>\n",
       "      <td>16.04</td>\n",
       "      <td>2018-09-29</td>\n",
       "      <td>General Merchandise</td>\n",
       "    </tr>\n",
       "    <tr>\n",
       "      <th>45</th>\n",
       "      <td>10.36</td>\n",
       "      <td>2018-10-17</td>\n",
       "      <td>Automotive</td>\n",
       "    </tr>\n",
       "    <tr>\n",
       "      <th>52</th>\n",
       "      <td>4.63</td>\n",
       "      <td>2017-07-11</td>\n",
       "      <td>Automotive</td>\n",
       "    </tr>\n",
       "    <tr>\n",
       "      <th>55</th>\n",
       "      <td>223.00</td>\n",
       "      <td>2018-09-10</td>\n",
       "      <td>General Merchandise</td>\n",
       "    </tr>\n",
       "    <tr>\n",
       "      <th>...</th>\n",
       "      <td>...</td>\n",
       "      <td>...</td>\n",
       "      <td>...</td>\n",
       "    </tr>\n",
       "    <tr>\n",
       "      <th>1999981</th>\n",
       "      <td>24.24</td>\n",
       "      <td>2021-02-19</td>\n",
       "      <td>Automotive</td>\n",
       "    </tr>\n",
       "    <tr>\n",
       "      <th>1999982</th>\n",
       "      <td>120.60</td>\n",
       "      <td>2021-01-19</td>\n",
       "      <td>General Merchandise</td>\n",
       "    </tr>\n",
       "    <tr>\n",
       "      <th>1999983</th>\n",
       "      <td>6.47</td>\n",
       "      <td>2022-02-25</td>\n",
       "      <td>Food and Beverages</td>\n",
       "    </tr>\n",
       "    <tr>\n",
       "      <th>1999991</th>\n",
       "      <td>44.98</td>\n",
       "      <td>2021-01-11</td>\n",
       "      <td>General Merchandise</td>\n",
       "    </tr>\n",
       "    <tr>\n",
       "      <th>1999992</th>\n",
       "      <td>1.00</td>\n",
       "      <td>2022-04-11</td>\n",
       "      <td>Food and Beverages</td>\n",
       "    </tr>\n",
       "  </tbody>\n",
       "</table>\n",
       "<p>496101 rows × 3 columns</p>\n",
       "</div>"
      ],
      "text/plain": [
       "         amount         dt         new_category\n",
       "8         15.25 2018-03-06        Entertainment\n",
       "39        16.04 2018-09-29  General Merchandise\n",
       "45        10.36 2018-10-17           Automotive\n",
       "52         4.63 2017-07-11           Automotive\n",
       "55       223.00 2018-09-10  General Merchandise\n",
       "...         ...        ...                  ...\n",
       "1999981   24.24 2021-02-19           Automotive\n",
       "1999982  120.60 2021-01-19  General Merchandise\n",
       "1999983    6.47 2022-02-25   Food and Beverages\n",
       "1999991   44.98 2021-01-11  General Merchandise\n",
       "1999992    1.00 2022-04-11   Food and Beverages\n",
       "\n",
       "[496101 rows x 3 columns]"
      ]
     },
     "execution_count": 2,
     "metadata": {},
     "output_type": "execute_result"
    }
   ],
   "source": [
    "data = pd.read_parquet(\"../data/DSC180B.parquet\")\n",
    "data['dt'] = pd.to_datetime(data['transaction_date'])\n",
    "data = data[[\"amount\", \"dt\", \"new_category\"]]\n",
    "data"
   ]
  },
  {
   "cell_type": "code",
   "execution_count": 4,
   "id": "63ba09a8",
   "metadata": {},
   "outputs": [
    {
     "data": {
      "text/plain": [
       "amount                 float64\n",
       "dt              datetime64[ns]\n",
       "new_category            object\n",
       "dtype: object"
      ]
     },
     "execution_count": 4,
     "metadata": {},
     "output_type": "execute_result"
    }
   ],
   "source": [
    "data.dtypes"
   ]
  },
  {
   "cell_type": "code",
   "execution_count": 5,
   "id": "15242521",
   "metadata": {
    "scrolled": false
   },
   "outputs": [
    {
     "data": {
      "text/plain": [
       "array(['Entertainment', 'General Merchandise', 'Automotive',\n",
       "       'Food and Beverages', 'Travel', 'Groceries', 'Healthcare/Medical',\n",
       "       'Pets/Pet Care'], dtype=object)"
      ]
     },
     "execution_count": 5,
     "metadata": {},
     "output_type": "execute_result"
    }
   ],
   "source": [
    "data['new_category'].unique()"
   ]
  },
  {
   "cell_type": "code",
   "execution_count": 19,
   "id": "d5dd2dd9",
   "metadata": {},
   "outputs": [
    {
     "data": {
      "text/plain": [
       "Food and Beverages     162009\n",
       "General Merchandise    138971\n",
       "Automotive              63617\n",
       "Groceries               63541\n",
       "Entertainment           31492\n",
       "Travel                  25491\n",
       "Healthcare/Medical       8392\n",
       "Pets/Pet Care            2588\n",
       "Name: new_category, dtype: int64"
      ]
     },
     "execution_count": 19,
     "metadata": {},
     "output_type": "execute_result"
    }
   ],
   "source": [
    "data['new_category'].value_counts()"
   ]
  },
  {
   "cell_type": "code",
   "execution_count": 6,
   "id": "5be9ee63",
   "metadata": {},
   "outputs": [],
   "source": [
    "# step 1: try to make a model without the text column"
   ]
  },
  {
   "cell_type": "code",
   "execution_count": 7,
   "id": "f10446de",
   "metadata": {},
   "outputs": [
    {
     "name": "stderr",
     "output_type": "stream",
     "text": [
      "/var/folders/bg/tjm2hhbn7vl_j003610q1dnc0000gn/T/ipykernel_38802/1333840826.py:4: FutureWarning: Series.dt.weekofyear and Series.dt.week have been deprecated. Please use Series.dt.isocalendar().week instead.\n",
      "  data['week'] = data['dt'].dt.week\n"
     ]
    }
   ],
   "source": [
    "data['year'] = data['dt'].dt.year\n",
    "data['quarter'] = data['dt'].dt.quarter\n",
    "data['month'] = data['dt'].dt.month\n",
    "data['week'] = data['dt'].dt.week\n",
    "data['day_of_week'] = data['dt'].dt.day_of_week\n",
    "data['day_of_month'] = data['dt'].dt.day\n",
    "data['day_of_year'] = data['dt'].dt.day_of_year\n",
    "data['is_whole_number'] = data['amount'].apply(lambda x: 1 if str(x).split(\".\")[1] == \"0\" else 0)"
   ]
  },
  {
   "cell_type": "code",
   "execution_count": 8,
   "id": "83350f4e",
   "metadata": {},
   "outputs": [
    {
     "data": {
      "text/html": [
       "<div>\n",
       "<style scoped>\n",
       "    .dataframe tbody tr th:only-of-type {\n",
       "        vertical-align: middle;\n",
       "    }\n",
       "\n",
       "    .dataframe tbody tr th {\n",
       "        vertical-align: top;\n",
       "    }\n",
       "\n",
       "    .dataframe thead th {\n",
       "        text-align: right;\n",
       "    }\n",
       "</style>\n",
       "<table border=\"1\" class=\"dataframe\">\n",
       "  <thead>\n",
       "    <tr style=\"text-align: right;\">\n",
       "      <th></th>\n",
       "      <th>amount</th>\n",
       "      <th>is_whole_number</th>\n",
       "      <th>year</th>\n",
       "      <th>quarter</th>\n",
       "      <th>month</th>\n",
       "      <th>week</th>\n",
       "      <th>day_of_week</th>\n",
       "      <th>day_of_month</th>\n",
       "      <th>day_of_year</th>\n",
       "    </tr>\n",
       "  </thead>\n",
       "  <tbody>\n",
       "    <tr>\n",
       "      <th>8</th>\n",
       "      <td>15.25</td>\n",
       "      <td>0</td>\n",
       "      <td>2018</td>\n",
       "      <td>1</td>\n",
       "      <td>3</td>\n",
       "      <td>10</td>\n",
       "      <td>1</td>\n",
       "      <td>6</td>\n",
       "      <td>65</td>\n",
       "    </tr>\n",
       "    <tr>\n",
       "      <th>39</th>\n",
       "      <td>16.04</td>\n",
       "      <td>0</td>\n",
       "      <td>2018</td>\n",
       "      <td>3</td>\n",
       "      <td>9</td>\n",
       "      <td>39</td>\n",
       "      <td>5</td>\n",
       "      <td>29</td>\n",
       "      <td>272</td>\n",
       "    </tr>\n",
       "    <tr>\n",
       "      <th>45</th>\n",
       "      <td>10.36</td>\n",
       "      <td>0</td>\n",
       "      <td>2018</td>\n",
       "      <td>4</td>\n",
       "      <td>10</td>\n",
       "      <td>42</td>\n",
       "      <td>2</td>\n",
       "      <td>17</td>\n",
       "      <td>290</td>\n",
       "    </tr>\n",
       "    <tr>\n",
       "      <th>52</th>\n",
       "      <td>4.63</td>\n",
       "      <td>0</td>\n",
       "      <td>2017</td>\n",
       "      <td>3</td>\n",
       "      <td>7</td>\n",
       "      <td>28</td>\n",
       "      <td>1</td>\n",
       "      <td>11</td>\n",
       "      <td>192</td>\n",
       "    </tr>\n",
       "    <tr>\n",
       "      <th>55</th>\n",
       "      <td>223.00</td>\n",
       "      <td>1</td>\n",
       "      <td>2018</td>\n",
       "      <td>3</td>\n",
       "      <td>9</td>\n",
       "      <td>37</td>\n",
       "      <td>0</td>\n",
       "      <td>10</td>\n",
       "      <td>253</td>\n",
       "    </tr>\n",
       "    <tr>\n",
       "      <th>...</th>\n",
       "      <td>...</td>\n",
       "      <td>...</td>\n",
       "      <td>...</td>\n",
       "      <td>...</td>\n",
       "      <td>...</td>\n",
       "      <td>...</td>\n",
       "      <td>...</td>\n",
       "      <td>...</td>\n",
       "      <td>...</td>\n",
       "    </tr>\n",
       "    <tr>\n",
       "      <th>1999981</th>\n",
       "      <td>24.24</td>\n",
       "      <td>0</td>\n",
       "      <td>2021</td>\n",
       "      <td>1</td>\n",
       "      <td>2</td>\n",
       "      <td>7</td>\n",
       "      <td>4</td>\n",
       "      <td>19</td>\n",
       "      <td>50</td>\n",
       "    </tr>\n",
       "    <tr>\n",
       "      <th>1999982</th>\n",
       "      <td>120.60</td>\n",
       "      <td>0</td>\n",
       "      <td>2021</td>\n",
       "      <td>1</td>\n",
       "      <td>1</td>\n",
       "      <td>3</td>\n",
       "      <td>1</td>\n",
       "      <td>19</td>\n",
       "      <td>19</td>\n",
       "    </tr>\n",
       "    <tr>\n",
       "      <th>1999983</th>\n",
       "      <td>6.47</td>\n",
       "      <td>0</td>\n",
       "      <td>2022</td>\n",
       "      <td>1</td>\n",
       "      <td>2</td>\n",
       "      <td>8</td>\n",
       "      <td>4</td>\n",
       "      <td>25</td>\n",
       "      <td>56</td>\n",
       "    </tr>\n",
       "    <tr>\n",
       "      <th>1999991</th>\n",
       "      <td>44.98</td>\n",
       "      <td>0</td>\n",
       "      <td>2021</td>\n",
       "      <td>1</td>\n",
       "      <td>1</td>\n",
       "      <td>2</td>\n",
       "      <td>0</td>\n",
       "      <td>11</td>\n",
       "      <td>11</td>\n",
       "    </tr>\n",
       "    <tr>\n",
       "      <th>1999992</th>\n",
       "      <td>1.00</td>\n",
       "      <td>1</td>\n",
       "      <td>2022</td>\n",
       "      <td>2</td>\n",
       "      <td>4</td>\n",
       "      <td>15</td>\n",
       "      <td>0</td>\n",
       "      <td>11</td>\n",
       "      <td>101</td>\n",
       "    </tr>\n",
       "  </tbody>\n",
       "</table>\n",
       "<p>496101 rows × 9 columns</p>\n",
       "</div>"
      ],
      "text/plain": [
       "         amount  is_whole_number  year  quarter  month  week  day_of_week  \\\n",
       "8         15.25                0  2018        1      3    10            1   \n",
       "39        16.04                0  2018        3      9    39            5   \n",
       "45        10.36                0  2018        4     10    42            2   \n",
       "52         4.63                0  2017        3      7    28            1   \n",
       "55       223.00                1  2018        3      9    37            0   \n",
       "...         ...              ...   ...      ...    ...   ...          ...   \n",
       "1999981   24.24                0  2021        1      2     7            4   \n",
       "1999982  120.60                0  2021        1      1     3            1   \n",
       "1999983    6.47                0  2022        1      2     8            4   \n",
       "1999991   44.98                0  2021        1      1     2            0   \n",
       "1999992    1.00                1  2022        2      4    15            0   \n",
       "\n",
       "         day_of_month  day_of_year  \n",
       "8                   6           65  \n",
       "39                 29          272  \n",
       "45                 17          290  \n",
       "52                 11          192  \n",
       "55                 10          253  \n",
       "...               ...          ...  \n",
       "1999981            19           50  \n",
       "1999982            19           19  \n",
       "1999983            25           56  \n",
       "1999991            11           11  \n",
       "1999992            11          101  \n",
       "\n",
       "[496101 rows x 9 columns]"
      ]
     },
     "metadata": {},
     "output_type": "display_data"
    },
    {
     "data": {
      "text/html": [
       "<div>\n",
       "<style scoped>\n",
       "    .dataframe tbody tr th:only-of-type {\n",
       "        vertical-align: middle;\n",
       "    }\n",
       "\n",
       "    .dataframe tbody tr th {\n",
       "        vertical-align: top;\n",
       "    }\n",
       "\n",
       "    .dataframe thead th {\n",
       "        text-align: right;\n",
       "    }\n",
       "</style>\n",
       "<table border=\"1\" class=\"dataframe\">\n",
       "  <thead>\n",
       "    <tr style=\"text-align: right;\">\n",
       "      <th></th>\n",
       "      <th>new_category</th>\n",
       "    </tr>\n",
       "  </thead>\n",
       "  <tbody>\n",
       "    <tr>\n",
       "      <th>8</th>\n",
       "      <td>Entertainment</td>\n",
       "    </tr>\n",
       "    <tr>\n",
       "      <th>39</th>\n",
       "      <td>General Merchandise</td>\n",
       "    </tr>\n",
       "    <tr>\n",
       "      <th>45</th>\n",
       "      <td>Automotive</td>\n",
       "    </tr>\n",
       "    <tr>\n",
       "      <th>52</th>\n",
       "      <td>Automotive</td>\n",
       "    </tr>\n",
       "    <tr>\n",
       "      <th>55</th>\n",
       "      <td>General Merchandise</td>\n",
       "    </tr>\n",
       "    <tr>\n",
       "      <th>...</th>\n",
       "      <td>...</td>\n",
       "    </tr>\n",
       "    <tr>\n",
       "      <th>1999981</th>\n",
       "      <td>Automotive</td>\n",
       "    </tr>\n",
       "    <tr>\n",
       "      <th>1999982</th>\n",
       "      <td>General Merchandise</td>\n",
       "    </tr>\n",
       "    <tr>\n",
       "      <th>1999983</th>\n",
       "      <td>Food and Beverages</td>\n",
       "    </tr>\n",
       "    <tr>\n",
       "      <th>1999991</th>\n",
       "      <td>General Merchandise</td>\n",
       "    </tr>\n",
       "    <tr>\n",
       "      <th>1999992</th>\n",
       "      <td>Food and Beverages</td>\n",
       "    </tr>\n",
       "  </tbody>\n",
       "</table>\n",
       "<p>496101 rows × 1 columns</p>\n",
       "</div>"
      ],
      "text/plain": [
       "                new_category\n",
       "8              Entertainment\n",
       "39       General Merchandise\n",
       "45                Automotive\n",
       "52                Automotive\n",
       "55       General Merchandise\n",
       "...                      ...\n",
       "1999981           Automotive\n",
       "1999982  General Merchandise\n",
       "1999983   Food and Beverages\n",
       "1999991  General Merchandise\n",
       "1999992   Food and Beverages\n",
       "\n",
       "[496101 rows x 1 columns]"
      ]
     },
     "metadata": {},
     "output_type": "display_data"
    },
    {
     "data": {
      "text/plain": [
       "(amount             float64\n",
       " is_whole_number      int64\n",
       " year                 int64\n",
       " quarter              int64\n",
       " month                int64\n",
       " week                 int64\n",
       " day_of_week          int64\n",
       " day_of_month         int64\n",
       " day_of_year          int64\n",
       " dtype: object,\n",
       " new_category    object\n",
       " dtype: object)"
      ]
     },
     "execution_count": 8,
     "metadata": {},
     "output_type": "execute_result"
    }
   ],
   "source": [
    "X = data[[\"amount\", \"is_whole_number\", \"year\", \"quarter\", \"month\", \"week\", \"day_of_week\", \"day_of_month\", \"day_of_year\"]]\n",
    "y = data[[\"new_category\"]]\n",
    "display(X)\n",
    "display(y)\n",
    "X.dtypes, y.dtypes"
   ]
  },
  {
   "cell_type": "code",
   "execution_count": 17,
   "id": "741e657c",
   "metadata": {
    "scrolled": false
   },
   "outputs": [
    {
     "name": "stderr",
     "output_type": "stream",
     "text": [
      "/Users/kylenero/opt/anaconda3/lib/python3.9/site-packages/sklearn/utils/validation.py:1111: DataConversionWarning: A column-vector y was passed when a 1d array was expected. Please change the shape of y to (n_samples, ), for example using ravel().\n",
      "  y = column_or_1d(y, warn=True)\n",
      "/Users/kylenero/opt/anaconda3/lib/python3.9/site-packages/sklearn/linear_model/_logistic.py:444: ConvergenceWarning: lbfgs failed to converge (status=1):\n",
      "STOP: TOTAL NO. of ITERATIONS REACHED LIMIT.\n",
      "\n",
      "Increase the number of iterations (max_iter) or scale the data as shown in:\n",
      "    https://scikit-learn.org/stable/modules/preprocessing.html\n",
      "Please also refer to the documentation for alternative solver options:\n",
      "    https://scikit-learn.org/stable/modules/linear_model.html#logistic-regression\n",
      "  n_iter_i = _check_optimize_result(\n"
     ]
    }
   ],
   "source": [
    "X_train, X_test, y_train, y_test = train_test_split(X, y, test_size=0.33, random_state=42)\n",
    "\n",
    "model = LogisticRegression(multi_class = \"multinomial\").fit(X_train, y_train)\n",
    "preds = model.predict(X_test)"
   ]
  },
  {
   "cell_type": "code",
   "execution_count": 18,
   "id": "751becb6",
   "metadata": {},
   "outputs": [
    {
     "data": {
      "text/plain": [
       "0.33094909415199675"
      ]
     },
     "execution_count": 18,
     "metadata": {},
     "output_type": "execute_result"
    }
   ],
   "source": [
    "y_test = np.array(y_test['new_category'])\n",
    "accuracy = (preds == y_test).mean()\n",
    "accuracy"
   ]
  },
  {
   "cell_type": "code",
   "execution_count": 49,
   "id": "5c4c4662",
   "metadata": {},
   "outputs": [],
   "source": [
    "# step 2: try to make a model with step 1 and kooshas tf-idf (koosha will send tf-idf notebook)"
   ]
  },
  {
   "cell_type": "code",
   "execution_count": 50,
   "id": "7369fec6",
   "metadata": {},
   "outputs": [],
   "source": [
    "# need to combine eventually"
   ]
  },
  {
   "cell_type": "code",
   "execution_count": null,
   "id": "e9dc8f12",
   "metadata": {},
   "outputs": [],
   "source": []
  }
 ],
 "metadata": {
  "kernelspec": {
   "display_name": "base",
   "language": "python",
   "name": "python3"
  },
  "language_info": {
   "codemirror_mode": {
    "name": "ipython",
    "version": 3
   },
   "file_extension": ".py",
   "mimetype": "text/x-python",
   "name": "python",
   "nbconvert_exporter": "python",
   "pygments_lexer": "ipython3",
   "version": "3.9.12"
  },
  "vscode": {
   "interpreter": {
    "hash": "40d3a090f54c6569ab1632332b64b2c03c39dcf918b08424e98f38b5ae0af88f"
   }
  }
 },
 "nbformat": 4,
 "nbformat_minor": 5
}
