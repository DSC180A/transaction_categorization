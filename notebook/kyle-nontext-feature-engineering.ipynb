{
 "cells": [
  {
   "cell_type": "code",
   "execution_count": 3,
   "id": "118674ab",
   "metadata": {},
   "outputs": [],
   "source": [
    "import numpy as np\n",
    "import pandas as pd\n",
    "import warnings\n",
    "warnings.filterwarnings(\"ignore\")\n",
    "\n",
    "import matplotlib.pyplot as plt\n",
    "\n",
    "from sklearn.model_selection import train_test_split\n",
    "from sklearn.linear_model import LogisticRegression, SGDClassifier\n",
    "from sklearn.preprocessing import StandardScaler, OneHotEncoder\n",
    "from sklearn.svm import SVC"
   ]
  },
  {
   "cell_type": "markdown",
   "id": "05a62e6c",
   "metadata": {},
   "source": [
    "### Week 4 Work"
   ]
  },
  {
   "cell_type": "code",
   "execution_count": 6,
   "id": "ef34a33a",
   "metadata": {},
   "outputs": [
    {
     "data": {
      "text/html": [
       "<div>\n",
       "<style scoped>\n",
       "    .dataframe tbody tr th:only-of-type {\n",
       "        vertical-align: middle;\n",
       "    }\n",
       "\n",
       "    .dataframe tbody tr th {\n",
       "        vertical-align: top;\n",
       "    }\n",
       "\n",
       "    .dataframe thead th {\n",
       "        text-align: right;\n",
       "    }\n",
       "</style>\n",
       "<table border=\"1\" class=\"dataframe\">\n",
       "  <thead>\n",
       "    <tr style=\"text-align: right;\">\n",
       "      <th></th>\n",
       "      <th>amount</th>\n",
       "      <th>dt</th>\n",
       "      <th>new_category</th>\n",
       "    </tr>\n",
       "  </thead>\n",
       "  <tbody>\n",
       "    <tr>\n",
       "      <th>8</th>\n",
       "      <td>15.25</td>\n",
       "      <td>2018-03-06</td>\n",
       "      <td>Entertainment</td>\n",
       "    </tr>\n",
       "    <tr>\n",
       "      <th>39</th>\n",
       "      <td>16.04</td>\n",
       "      <td>2018-09-29</td>\n",
       "      <td>General Merchandise</td>\n",
       "    </tr>\n",
       "    <tr>\n",
       "      <th>45</th>\n",
       "      <td>10.36</td>\n",
       "      <td>2018-10-17</td>\n",
       "      <td>Automotive</td>\n",
       "    </tr>\n",
       "    <tr>\n",
       "      <th>52</th>\n",
       "      <td>4.63</td>\n",
       "      <td>2017-07-11</td>\n",
       "      <td>Automotive</td>\n",
       "    </tr>\n",
       "    <tr>\n",
       "      <th>55</th>\n",
       "      <td>223.00</td>\n",
       "      <td>2018-09-10</td>\n",
       "      <td>General Merchandise</td>\n",
       "    </tr>\n",
       "    <tr>\n",
       "      <th>...</th>\n",
       "      <td>...</td>\n",
       "      <td>...</td>\n",
       "      <td>...</td>\n",
       "    </tr>\n",
       "    <tr>\n",
       "      <th>1999981</th>\n",
       "      <td>24.24</td>\n",
       "      <td>2021-02-19</td>\n",
       "      <td>Automotive</td>\n",
       "    </tr>\n",
       "    <tr>\n",
       "      <th>1999982</th>\n",
       "      <td>120.60</td>\n",
       "      <td>2021-01-19</td>\n",
       "      <td>General Merchandise</td>\n",
       "    </tr>\n",
       "    <tr>\n",
       "      <th>1999983</th>\n",
       "      <td>6.47</td>\n",
       "      <td>2022-02-25</td>\n",
       "      <td>Food and Beverages</td>\n",
       "    </tr>\n",
       "    <tr>\n",
       "      <th>1999991</th>\n",
       "      <td>44.98</td>\n",
       "      <td>2021-01-11</td>\n",
       "      <td>General Merchandise</td>\n",
       "    </tr>\n",
       "    <tr>\n",
       "      <th>1999992</th>\n",
       "      <td>1.00</td>\n",
       "      <td>2022-04-11</td>\n",
       "      <td>Food and Beverages</td>\n",
       "    </tr>\n",
       "  </tbody>\n",
       "</table>\n",
       "<p>496101 rows × 3 columns</p>\n",
       "</div>"
      ],
      "text/plain": [
       "         amount         dt         new_category\n",
       "8         15.25 2018-03-06        Entertainment\n",
       "39        16.04 2018-09-29  General Merchandise\n",
       "45        10.36 2018-10-17           Automotive\n",
       "52         4.63 2017-07-11           Automotive\n",
       "55       223.00 2018-09-10  General Merchandise\n",
       "...         ...        ...                  ...\n",
       "1999981   24.24 2021-02-19           Automotive\n",
       "1999982  120.60 2021-01-19  General Merchandise\n",
       "1999983    6.47 2022-02-25   Food and Beverages\n",
       "1999991   44.98 2021-01-11  General Merchandise\n",
       "1999992    1.00 2022-04-11   Food and Beverages\n",
       "\n",
       "[496101 rows x 3 columns]"
      ]
     },
     "execution_count": 6,
     "metadata": {},
     "output_type": "execute_result"
    }
   ],
   "source": [
    "data = pd.read_parquet(\"../data/df_cleaned.parquet\")\n",
    "data['dt'] = pd.to_datetime(data['transaction_date'])\n",
    "data = data[[\"amount\", \"dt\", \"new_category\"]]\n",
    "data"
   ]
  },
  {
   "cell_type": "code",
   "execution_count": 7,
   "id": "90854373",
   "metadata": {},
   "outputs": [
    {
     "data": {
      "text/plain": [
       "amount                 float64\n",
       "dt              datetime64[ns]\n",
       "new_category            object\n",
       "dtype: object"
      ]
     },
     "execution_count": 7,
     "metadata": {},
     "output_type": "execute_result"
    }
   ],
   "source": [
    "data.dtypes"
   ]
  },
  {
   "cell_type": "code",
   "execution_count": 8,
   "id": "9edb01a3",
   "metadata": {},
   "outputs": [
    {
     "data": {
      "text/plain": [
       "Food and Beverages     162009\n",
       "General Merchandise    138971\n",
       "Automotive              63617\n",
       "Groceries               63541\n",
       "Entertainment           31492\n",
       "Travel                  25491\n",
       "Healthcare/Medical       8392\n",
       "Pets/Pet Care            2588\n",
       "Name: new_category, dtype: int64"
      ]
     },
     "execution_count": 8,
     "metadata": {},
     "output_type": "execute_result"
    }
   ],
   "source": [
    "data['new_category'].value_counts()"
   ]
  },
  {
   "cell_type": "code",
   "execution_count": 9,
   "id": "7ed9f1c6",
   "metadata": {},
   "outputs": [
    {
     "data": {
      "text/plain": [
       "Food and Beverages     0.326565\n",
       "General Merchandise    0.280126\n",
       "Automotive             0.128234\n",
       "Groceries              0.128081\n",
       "Entertainment          0.063479\n",
       "Travel                 0.051383\n",
       "Healthcare/Medical     0.016916\n",
       "Pets/Pet Care          0.005217\n",
       "Name: new_category, dtype: float64"
      ]
     },
     "execution_count": 9,
     "metadata": {},
     "output_type": "execute_result"
    }
   ],
   "source": [
    "data['new_category'].value_counts(normalize=True)"
   ]
  },
  {
   "cell_type": "code",
   "execution_count": null,
   "id": "b5f67967",
   "metadata": {},
   "outputs": [],
   "source": [
    "# step 1: try to make a model without the text column"
   ]
  },
  {
   "cell_type": "code",
   "execution_count": null,
   "id": "42b66120",
   "metadata": {},
   "outputs": [],
   "source": [
    "data['year'] = data['dt'].dt.year # ranges 2010 - 2022\n",
    "data['month'] = data['dt'].dt.month # ranges 1 - 12\n",
    "data['is_holiday'] = data['month'].apply(lambda x: 1 if x == 11 or x == 12 else 0) # 0 or 1\n",
    "data['day'] = data['dt'].dt.dayofweek # to be discarded\n",
    "data['is_weekend'] = data['day'].apply(lambda x: 1 if x == 5 or x == 6 else 0) # 0 or 1\n",
    "\n",
    "# amount: consider encoding whole numbers\n",
    "data['is_whole_number'] = data['amount'].apply(lambda x: 1 if str(x).split(\".\")[1] == \"0\" else 0)\n",
    "data"
   ]
  },
  {
   "cell_type": "code",
   "execution_count": null,
   "id": "a3108ff0",
   "metadata": {
    "scrolled": true
   },
   "outputs": [],
   "source": []
  },
  {
   "cell_type": "code",
   "execution_count": null,
   "id": "df05e19a",
   "metadata": {},
   "outputs": [],
   "source": [
    "y_test = np.array(y_test['new_category'])\n",
    "accuracy = (preds == y_test).mean()\n",
    "accuracy2 = (preds2 == y_test).mean()\n",
    "print(\"Logistic Regression accuracy: {}, \\nSGDClassifier accuracy: {}\".format(accuracy, accuracy2)) # accuracy is for LogRes, accuracy2 is for SGDClassifier"
   ]
  },
  {
   "cell_type": "markdown",
   "id": "61fdd1e1",
   "metadata": {},
   "source": [
    "### EDA"
   ]
  },
  {
   "cell_type": "code",
   "execution_count": 5,
   "id": "b3e20812",
   "metadata": {},
   "outputs": [
    {
     "ename": "NameError",
     "evalue": "name 'data' is not defined",
     "output_type": "error",
     "traceback": [
      "\u001b[0;31m---------------------------------------------------------------------------\u001b[0m",
      "\u001b[0;31mNameError\u001b[0m                                 Traceback (most recent call last)",
      "\u001b[0;32m/var/folders/bg/tjm2hhbn7vl_j003610q1dnc0000gn/T/ipykernel_14355/2735276614.py\u001b[0m in \u001b[0;36m<module>\u001b[0;34m\u001b[0m\n\u001b[0;32m----> 1\u001b[0;31m \u001b[0mdata\u001b[0m\u001b[0;34m[\u001b[0m\u001b[0;34m'day'\u001b[0m\u001b[0;34m]\u001b[0m\u001b[0;34m.\u001b[0m\u001b[0mvalue_counts\u001b[0m\u001b[0;34m(\u001b[0m\u001b[0;34m)\u001b[0m\u001b[0;34m\u001b[0m\u001b[0;34m\u001b[0m\u001b[0m\n\u001b[0m\u001b[1;32m      2\u001b[0m \u001b[0;31m# interesting -- most transactions are from monday and very few are from sat or sun\u001b[0m\u001b[0;34m\u001b[0m\u001b[0;34m\u001b[0m\u001b[0m\n",
      "\u001b[0;31mNameError\u001b[0m: name 'data' is not defined"
     ]
    }
   ],
   "source": [
    "data['day'].value_counts()\n",
    "# interesting -- most transactions are from monday and very few are from sat or sun"
   ]
  },
  {
   "cell_type": "code",
   "execution_count": 6,
   "id": "8e49a4f4",
   "metadata": {},
   "outputs": [
    {
     "ename": "NameError",
     "evalue": "name 'data' is not defined",
     "output_type": "error",
     "traceback": [
      "\u001b[0;31m---------------------------------------------------------------------------\u001b[0m",
      "\u001b[0;31mNameError\u001b[0m                                 Traceback (most recent call last)",
      "\u001b[0;32m/var/folders/bg/tjm2hhbn7vl_j003610q1dnc0000gn/T/ipykernel_14355/2934128360.py\u001b[0m in \u001b[0;36m<module>\u001b[0;34m\u001b[0m\n\u001b[0;32m----> 1\u001b[0;31m \u001b[0mdata\u001b[0m\u001b[0;34m[\u001b[0m\u001b[0;34m'year'\u001b[0m\u001b[0;34m]\u001b[0m\u001b[0;34m.\u001b[0m\u001b[0mvalue_counts\u001b[0m\u001b[0;34m(\u001b[0m\u001b[0;34m)\u001b[0m\u001b[0;34m.\u001b[0m\u001b[0msort_index\u001b[0m\u001b[0;34m(\u001b[0m\u001b[0;34m)\u001b[0m\u001b[0;34m\u001b[0m\u001b[0;34m\u001b[0m\u001b[0m\n\u001b[0m\u001b[1;32m      2\u001b[0m \u001b[0;31m# mostly from 2017-2022\u001b[0m\u001b[0;34m\u001b[0m\u001b[0;34m\u001b[0m\u001b[0m\n",
      "\u001b[0;31mNameError\u001b[0m: name 'data' is not defined"
     ]
    }
   ],
   "source": [
    "data['year'].value_counts().sort_index()\n",
    "# mostly from 2017-2022"
   ]
  },
  {
   "cell_type": "markdown",
   "id": "a9092f3d",
   "metadata": {},
   "source": [
    "### Checking if there is a difference between November/December and rest of year"
   ]
  },
  {
   "cell_type": "code",
   "execution_count": 1,
   "id": "635d9069",
   "metadata": {},
   "outputs": [
    {
     "ename": "NameError",
     "evalue": "name 'data' is not defined",
     "output_type": "error",
     "traceback": [
      "\u001b[0;31m---------------------------------------------------------------------------\u001b[0m",
      "\u001b[0;31mNameError\u001b[0m                                 Traceback (most recent call last)",
      "\u001b[0;32m/var/folders/bg/tjm2hhbn7vl_j003610q1dnc0000gn/T/ipykernel_14355/3697109604.py\u001b[0m in \u001b[0;36m<module>\u001b[0;34m\u001b[0m\n\u001b[0;32m----> 1\u001b[0;31m \u001b[0mholidays\u001b[0m \u001b[0;34m=\u001b[0m \u001b[0mdata\u001b[0m\u001b[0;34m[\u001b[0m\u001b[0mdata\u001b[0m\u001b[0;34m[\u001b[0m\u001b[0;34m'month'\u001b[0m\u001b[0;34m]\u001b[0m \u001b[0;34m>=\u001b[0m \u001b[0;36m11\u001b[0m\u001b[0;34m]\u001b[0m\u001b[0;34m\u001b[0m\u001b[0;34m\u001b[0m\u001b[0m\n\u001b[0m\u001b[1;32m      2\u001b[0m \u001b[0mnot_holidays\u001b[0m \u001b[0;34m=\u001b[0m \u001b[0mdata\u001b[0m\u001b[0;34m[\u001b[0m\u001b[0mdata\u001b[0m\u001b[0;34m[\u001b[0m\u001b[0;34m'month'\u001b[0m\u001b[0;34m]\u001b[0m \u001b[0;34m<\u001b[0m \u001b[0;36m11\u001b[0m\u001b[0;34m]\u001b[0m\u001b[0;34m\u001b[0m\u001b[0;34m\u001b[0m\u001b[0m\n\u001b[1;32m      3\u001b[0m \u001b[0mprint\u001b[0m\u001b[0;34m(\u001b[0m\u001b[0mlen\u001b[0m\u001b[0;34m(\u001b[0m\u001b[0mholidays\u001b[0m\u001b[0;34m)\u001b[0m \u001b[0;34m+\u001b[0m \u001b[0mlen\u001b[0m\u001b[0;34m(\u001b[0m\u001b[0mnot_holidays\u001b[0m\u001b[0;34m)\u001b[0m \u001b[0;34m==\u001b[0m \u001b[0mlen\u001b[0m\u001b[0;34m(\u001b[0m\u001b[0mdata\u001b[0m\u001b[0;34m)\u001b[0m\u001b[0;34m)\u001b[0m \u001b[0;31m# proves proper split\u001b[0m\u001b[0;34m\u001b[0m\u001b[0;34m\u001b[0m\u001b[0m\n\u001b[1;32m      4\u001b[0m \u001b[0mholidays_vc\u001b[0m \u001b[0;34m=\u001b[0m \u001b[0mholidays\u001b[0m\u001b[0;34m[\u001b[0m\u001b[0;34m'new_category'\u001b[0m\u001b[0;34m]\u001b[0m\u001b[0;34m.\u001b[0m\u001b[0mvalue_counts\u001b[0m\u001b[0;34m(\u001b[0m\u001b[0mnormalize\u001b[0m\u001b[0;34m=\u001b[0m\u001b[0;32mTrue\u001b[0m\u001b[0;34m,\u001b[0m \u001b[0msort\u001b[0m\u001b[0;34m=\u001b[0m\u001b[0;32mFalse\u001b[0m\u001b[0;34m)\u001b[0m\u001b[0;34m.\u001b[0m\u001b[0msort_index\u001b[0m\u001b[0;34m(\u001b[0m\u001b[0;34m)\u001b[0m\u001b[0;34m\u001b[0m\u001b[0;34m\u001b[0m\u001b[0m\n\u001b[1;32m      5\u001b[0m \u001b[0mnot_holidays_vc\u001b[0m \u001b[0;34m=\u001b[0m \u001b[0mnot_holidays\u001b[0m\u001b[0;34m[\u001b[0m\u001b[0;34m'new_category'\u001b[0m\u001b[0;34m]\u001b[0m\u001b[0;34m.\u001b[0m\u001b[0mvalue_counts\u001b[0m\u001b[0;34m(\u001b[0m\u001b[0mnormalize\u001b[0m\u001b[0;34m=\u001b[0m\u001b[0;32mTrue\u001b[0m\u001b[0;34m,\u001b[0m \u001b[0msort\u001b[0m\u001b[0;34m=\u001b[0m\u001b[0;32mFalse\u001b[0m\u001b[0;34m)\u001b[0m\u001b[0;34m.\u001b[0m\u001b[0msort_index\u001b[0m\u001b[0;34m(\u001b[0m\u001b[0;34m)\u001b[0m\u001b[0;34m\u001b[0m\u001b[0;34m\u001b[0m\u001b[0m\n",
      "\u001b[0;31mNameError\u001b[0m: name 'data' is not defined"
     ]
    }
   ],
   "source": [
    "holidays = data[data['month'] >= 11]\n",
    "not_holidays = data[data['month'] < 11]\n",
    "print(len(holidays) + len(not_holidays) == len(data)) # proves proper split\n",
    "holidays_vc = holidays['new_category'].value_counts(normalize=True, sort=False).sort_index()\n",
    "not_holidays_vc = not_holidays['new_category'].value_counts(normalize=True, sort=False).sort_index()\n",
    "\n",
    "X = np.arange(8)\n",
    "fig = plt.figure()\n",
    "ax = fig.add_axes([0,0,1,1])\n",
    "ax.bar(X + 0.00, holidays_vc, color = 'b', width = 0.25)\n",
    "ax.bar(X + 0.25, not_holidays_vc, color = 'g', width = 0.25)\n",
    "plt.xticks(np.arange(8), holidays_vc.index, color='black', rotation=45, fontsize='16', horizontalalignment='right')\n",
    "plt.legend(labels = [\"holidays\", \"not holidays\"])\n",
    "plt.show()"
   ]
  },
  {
   "cell_type": "code",
   "execution_count": 2,
   "id": "391c977a",
   "metadata": {},
   "outputs": [
    {
     "ename": "NameError",
     "evalue": "name 'data' is not defined",
     "output_type": "error",
     "traceback": [
      "\u001b[0;31m---------------------------------------------------------------------------\u001b[0m",
      "\u001b[0;31mNameError\u001b[0m                                 Traceback (most recent call last)",
      "\u001b[0;32m/var/folders/bg/tjm2hhbn7vl_j003610q1dnc0000gn/T/ipykernel_14355/99258373.py\u001b[0m in \u001b[0;36m<module>\u001b[0;34m\u001b[0m\n\u001b[0;32m----> 1\u001b[0;31m \u001b[0mholidays\u001b[0m \u001b[0;34m=\u001b[0m \u001b[0mdata\u001b[0m\u001b[0;34m[\u001b[0m\u001b[0mdata\u001b[0m\u001b[0;34m[\u001b[0m\u001b[0;34m'month'\u001b[0m\u001b[0;34m]\u001b[0m \u001b[0;34m>\u001b[0m \u001b[0;36m11\u001b[0m\u001b[0;34m]\u001b[0m\u001b[0;34m\u001b[0m\u001b[0;34m\u001b[0m\u001b[0m\n\u001b[0m\u001b[1;32m      2\u001b[0m \u001b[0mnot_holidays\u001b[0m \u001b[0;34m=\u001b[0m \u001b[0mdata\u001b[0m\u001b[0;34m[\u001b[0m\u001b[0mdata\u001b[0m\u001b[0;34m[\u001b[0m\u001b[0;34m'month'\u001b[0m\u001b[0;34m]\u001b[0m \u001b[0;34m<=\u001b[0m \u001b[0;36m11\u001b[0m\u001b[0;34m]\u001b[0m\u001b[0;34m\u001b[0m\u001b[0;34m\u001b[0m\u001b[0m\n\u001b[1;32m      3\u001b[0m \u001b[0mprint\u001b[0m\u001b[0;34m(\u001b[0m\u001b[0mlen\u001b[0m\u001b[0;34m(\u001b[0m\u001b[0mholidays\u001b[0m\u001b[0;34m)\u001b[0m \u001b[0;34m+\u001b[0m \u001b[0mlen\u001b[0m\u001b[0;34m(\u001b[0m\u001b[0mnot_holidays\u001b[0m\u001b[0;34m)\u001b[0m \u001b[0;34m==\u001b[0m \u001b[0mlen\u001b[0m\u001b[0;34m(\u001b[0m\u001b[0mdata\u001b[0m\u001b[0;34m)\u001b[0m\u001b[0;34m)\u001b[0m \u001b[0;31m# proves proper split\u001b[0m\u001b[0;34m\u001b[0m\u001b[0;34m\u001b[0m\u001b[0m\n\u001b[1;32m      4\u001b[0m \u001b[0mholidays_vc\u001b[0m \u001b[0;34m=\u001b[0m \u001b[0mholidays\u001b[0m\u001b[0;34m[\u001b[0m\u001b[0;34m'new_category'\u001b[0m\u001b[0;34m]\u001b[0m\u001b[0;34m.\u001b[0m\u001b[0mvalue_counts\u001b[0m\u001b[0;34m(\u001b[0m\u001b[0mnormalize\u001b[0m\u001b[0;34m=\u001b[0m\u001b[0;32mTrue\u001b[0m\u001b[0;34m,\u001b[0m \u001b[0msort\u001b[0m\u001b[0;34m=\u001b[0m\u001b[0;32mFalse\u001b[0m\u001b[0;34m)\u001b[0m\u001b[0;34m.\u001b[0m\u001b[0msort_index\u001b[0m\u001b[0;34m(\u001b[0m\u001b[0;34m)\u001b[0m\u001b[0;34m\u001b[0m\u001b[0;34m\u001b[0m\u001b[0m\n\u001b[1;32m      5\u001b[0m \u001b[0mnot_holidays_vc\u001b[0m \u001b[0;34m=\u001b[0m \u001b[0mnot_holidays\u001b[0m\u001b[0;34m[\u001b[0m\u001b[0;34m'new_category'\u001b[0m\u001b[0;34m]\u001b[0m\u001b[0;34m.\u001b[0m\u001b[0mvalue_counts\u001b[0m\u001b[0;34m(\u001b[0m\u001b[0mnormalize\u001b[0m\u001b[0;34m=\u001b[0m\u001b[0;32mTrue\u001b[0m\u001b[0;34m,\u001b[0m \u001b[0msort\u001b[0m\u001b[0;34m=\u001b[0m\u001b[0;32mFalse\u001b[0m\u001b[0;34m)\u001b[0m\u001b[0;34m.\u001b[0m\u001b[0msort_index\u001b[0m\u001b[0;34m(\u001b[0m\u001b[0;34m)\u001b[0m\u001b[0;34m\u001b[0m\u001b[0;34m\u001b[0m\u001b[0m\n",
      "\u001b[0;31mNameError\u001b[0m: name 'data' is not defined"
     ]
    }
   ],
   "source": [
    "holidays = data[data['month'] > 11]\n",
    "not_holidays = data[data['month'] <= 11]\n",
    "print(len(holidays) + len(not_holidays) == len(data)) # proves proper split\n",
    "holidays_vc = holidays['new_category'].value_counts(normalize=True, sort=False).sort_index()\n",
    "not_holidays_vc = not_holidays['new_category'].value_counts(normalize=True, sort=False).sort_index()\n",
    "\n",
    "X = np.arange(8)\n",
    "fig = plt.figure()\n",
    "ax = fig.add_axes([0,0,1,1])\n",
    "ax.bar(X + 0.00, holidays_vc, color = 'b', width = 0.25)\n",
    "ax.bar(X + 0.25, not_holidays_vc, color = 'g', width = 0.25)\n",
    "plt.xticks(np.arange(8), holidays_vc.index, color='black', rotation=45, fontsize='16', horizontalalignment='right')\n",
    "plt.legend(labels = [\"holidays\", \"not holidays\"])\n",
    "plt.show()"
   ]
  },
  {
   "cell_type": "code",
   "execution_count": null,
   "id": "c6ac41b8",
   "metadata": {},
   "outputs": [],
   "source": []
  }
 ],
 "metadata": {
  "kernelspec": {
   "display_name": "Python 3 (ipykernel)",
   "language": "python",
   "name": "python3"
  },
  "language_info": {
   "codemirror_mode": {
    "name": "ipython",
    "version": 3
   },
   "file_extension": ".py",
   "mimetype": "text/x-python",
   "name": "python",
   "nbconvert_exporter": "python",
   "pygments_lexer": "ipython3",
   "version": "3.9.12"
  }
 },
 "nbformat": 4,
 "nbformat_minor": 5
}
